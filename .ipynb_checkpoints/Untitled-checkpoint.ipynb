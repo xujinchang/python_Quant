{
 "cells": [
  {
   "cell_type": "code",
   "execution_count": null,
   "metadata": {
    "collapsed": true
   },
   "outputs": [],
   "source": [
    "%matplotlib inline\n",
    "import csv\n",
    "import numpy as np\n",
    "from sklearn.svm import SVR\n",
    "import matplotlib.pyplot as plt\n",
    "dates = []\n",
    "prices = []\n",
    "\n",
    "def get_data(filename):\n",
    "    with open(filename, 'r') as csvfile:\n",
    "        csvFileReader = csv.reader(csvfile)\n",
    "        next(csvFileReader)\n",
    "        for row in csvFileReader:\n",
    "            dates.append(int(row[0].split('-')[0]))\n",
    "            prices.append(float(row[1]))\n",
    "    return\n",
    "\n",
    "# def predict_prices(dates, prices, x):\n",
    "#     dates = np.reshape(dates, (len(dates), 1))\n",
    "\n",
    "#     svr_lin = SVR(kernel= 'linear', C=1e3)\n",
    "#     svr_poly = SVR(kernel= 'poly', C=1e3, degree= 2)\n",
    "#     svr_rbf = SVR(kernel= 'rbf', C=1e3, gamma=0.1)\n",
    "\n",
    "#     svr_lin.fit(dates, prices)\n",
    "#     svr_poly.fit(dates, prices)\n",
    "#     svr_rbf.fit(dates, prices)\n",
    "    \n",
    "#     plt.scatter(dates,\n",
    "#                 prices,\n",
    "#                 color=\"black\",\n",
    "#                 label=\"Data\")\n",
    "#     plt.plot(dates,\n",
    "#              svr_rbf.predict(dates),\n",
    "#              color=\"red\",\n",
    "#              label=\"RBF Model\")\n",
    "\n",
    "#     plt.plot(dates,\n",
    "#              svr_lin.predict(dates),\n",
    "#              color=\"green\",\n",
    "#              label='linear Model')\n",
    "\n",
    "#     plt.plot(dates,\n",
    "#              svr_poly.predict(dates),\n",
    "#              color=\"blue\",\n",
    "#              label=\"Ploynomial Model\")\n",
    "\n",
    "#     plt.xlabel('Dates')\n",
    "#     plt.ylabel('Price')\n",
    "#     plt.title('Support Vector Reg')\n",
    "#     plt.legend()\n",
    "#     plt.show()\n",
    "\n",
    "#     return svr_rbf.predict(x)[0], svr_lin.predict(x)[0], svr_poly.predict(x)[0]\n",
    "get_data('aapl.csv')\n",
    "print dates"
   ]
  },
  {
   "cell_type": "code",
   "execution_count": null,
   "metadata": {
    "collapsed": true
   },
   "outputs": [],
   "source": []
  },
  {
   "cell_type": "code",
   "execution_count": null,
   "metadata": {
    "collapsed": true
   },
   "outputs": [],
   "source": []
  },
  {
   "cell_type": "code",
   "execution_count": null,
   "metadata": {
    "collapsed": false
   },
   "outputs": [],
   "source": [
    "# if '__name__' == '__main__':\n",
    "#     get_data('aapl.csv')\n",
    "#     print dates\n",
    "\n",
    "# predicted_prices = predict_prices(dates, prices, 29)\n",
    "\n",
    "# print(predicted_prices)"
   ]
  },
  {
   "cell_type": "code",
   "execution_count": null,
   "metadata": {
    "collapsed": true
   },
   "outputs": [],
   "source": []
  },
  {
   "cell_type": "code",
   "execution_count": null,
   "metadata": {
    "collapsed": true
   },
   "outputs": [],
   "source": []
  }
 ],
 "metadata": {
  "kernelspec": {
   "display_name": "Python 2",
   "language": "python",
   "name": "python2"
  },
  "language_info": {
   "codemirror_mode": {
    "name": "ipython",
    "version": 2
   },
   "file_extension": ".py",
   "mimetype": "text/x-python",
   "name": "python",
   "nbconvert_exporter": "python",
   "pygments_lexer": "ipython2",
   "version": "2.7.13"
  }
 },
 "nbformat": 4,
 "nbformat_minor": 1
}
